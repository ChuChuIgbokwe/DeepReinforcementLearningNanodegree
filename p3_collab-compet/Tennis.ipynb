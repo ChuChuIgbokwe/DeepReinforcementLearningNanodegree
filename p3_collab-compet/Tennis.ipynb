{
 "cells": [
  {
   "cell_type": "markdown",
   "metadata": {},
   "source": [
    "# Collaboration and Competition\n",
    "\n",
    "---\n",
    "\n",
    "In this notebook, you will learn how to use the Unity ML-Agents environment for the third project of the [Deep Reinforcement Learning Nanodegree](https://www.udacity.com/course/deep-reinforcement-learning-nanodegree--nd893) program.\n",
    "\n",
    "### 1. Start the Environment\n",
    "\n",
    "We begin by importing the necessary packages.  If the code cell below returns an error, please revisit the project instructions to double-check that you have installed [Unity ML-Agents](https://github.com/Unity-Technologies/ml-agents/blob/master/docs/Installation.md) and [NumPy](http://www.numpy.org/)."
   ]
  },
  {
   "cell_type": "code",
   "execution_count": null,
   "metadata": {},
   "outputs": [],
   "source": [
    "from unityagents import UnityEnvironment\n",
    "import numpy as np\n",
    "from collections import deque\n",
    "import time\n",
    "import matplotlib.pyplot as plt\n",
    "%matplotlib inline\n",
    "plt.ion()\n",
    "\n",
    "import numpy as np\n",
    "\n",
    "import torch\n",
    "import torch.nn as nn\n",
    "import torch.nn.functional as F\n",
    "import torch.optim as optim\n",
    "import copy\n",
    "import random"
   ]
  },
  {
   "cell_type": "markdown",
   "metadata": {},
   "source": [
    "Next, we will start the environment!  **_Before running the code cell below_**, change the `file_name` parameter to match the location of the Unity environment that you downloaded.\n",
    "\n",
    "- **Mac**: `\"path/to/Tennis.app\"`\n",
    "- **Windows** (x86): `\"path/to/Tennis_Windows_x86/Tennis.exe\"`\n",
    "- **Windows** (x86_64): `\"path/to/Tennis_Windows_x86_64/Tennis.exe\"`\n",
    "- **Linux** (x86): `\"path/to/Tennis_Linux/Tennis.x86\"`\n",
    "- **Linux** (x86_64): `\"path/to/Tennis_Linux/Tennis.x86_64\"`\n",
    "- **Linux** (x86, headless): `\"path/to/Tennis_Linux_NoVis/Tennis.x86\"`\n",
    "- **Linux** (x86_64, headless): `\"path/to/Tennis_Linux_NoVis/Tennis.x86_64\"`\n",
    "\n",
    "For instance, if you are using a Mac, then you downloaded `Tennis.app`.  If this file is in the same folder as the notebook, then the line below should appear as follows:\n",
    "```\n",
    "env = UnityEnvironment(file_name=\"Tennis.app\")\n",
    "```"
   ]
  },
  {
   "cell_type": "code",
   "execution_count": null,
   "metadata": {},
   "outputs": [],
   "source": [
    "env = UnityEnvironment(file_name=\"/home/chu-chu/deep_reinforcement_learning_nanodegree/p3_collab-compet/Tennis_Linux/Tennis.x86_64\")"
   ]
  },
  {
   "cell_type": "markdown",
   "metadata": {},
   "source": [
    "Environments contain **_brains_** which are responsible for deciding the actions of their associated agents. Here we check for the first brain available, and set it as the default brain we will be controlling from Python."
   ]
  },
  {
   "cell_type": "code",
   "execution_count": null,
   "metadata": {},
   "outputs": [],
   "source": [
    "# get the default brain\n",
    "brain_name = env.brain_names[0]\n",
    "brain = env.brains[brain_name]"
   ]
  },
  {
   "cell_type": "markdown",
   "metadata": {},
   "source": [
    "### 2. Examine the State and Action Spaces\n",
    "\n",
    "In this environment, two agents control rackets to bounce a ball over a net. If an agent hits the ball over the net, it receives a reward of +0.1.  If an agent lets a ball hit the ground or hits the ball out of bounds, it receives a reward of -0.01.  Thus, the goal of each agent is to keep the ball in play.\n",
    "\n",
    "The observation space consists of 8 variables corresponding to the position and velocity of the ball and racket. Two continuous actions are available, corresponding to movement toward (or away from) the net, and jumping. \n",
    "\n",
    "Run the code cell below to print some information about the environment."
   ]
  },
  {
   "cell_type": "code",
   "execution_count": null,
   "metadata": {},
   "outputs": [],
   "source": [
    "# reset the environment\n",
    "env_info = env.reset(train_mode=True)[brain_name]\n",
    "\n",
    "# number of agents \n",
    "num_agents = len(env_info.agents)\n",
    "print('Number of agents:', num_agents)\n",
    "\n",
    "# size of each action\n",
    "action_size = brain.vector_action_space_size\n",
    "print('Size of each action:', action_size)\n",
    "\n",
    "# examine the state space \n",
    "states = env_info.vector_observations\n",
    "state_size = states.shape[1]\n",
    "print('There are {} agents. Each observes a state with length: {}'.format(states.shape[0], state_size))\n",
    "print('The state for the first agent looks like:', states[0])"
   ]
  },
  {
   "cell_type": "markdown",
   "metadata": {},
   "source": [
    "### 3. Take Random Actions in the Environment\n",
    "\n",
    "In the next code cell, you will learn how to use the Python API to control the agents and receive feedback from the environment.\n",
    "\n",
    "Once this cell is executed, you will watch the agents' performance, if they select actions at random with each time step.  A window should pop up that allows you to observe the agents.\n",
    "\n",
    "Of course, as part of the project, you'll have to change the code so that the agents are able to use their experiences to gradually choose better actions when interacting with the environment!"
   ]
  },
  {
   "cell_type": "code",
   "execution_count": null,
   "metadata": {},
   "outputs": [],
   "source": [
    "# for i in range(1, 6):                                      # play game for 5 episodes\n",
    "#     env_info = env.reset(train_mode=False)[brain_name]     # reset the environment    \n",
    "#     states = env_info.vector_observations                  # get the current state (for each agent)\n",
    "#     scores = np.zeros(num_agents)                          # initialize the score (for each agent)\n",
    "#     while True:\n",
    "#         actions = np.random.randn(num_agents, action_size) # select an action (for each agent)\n",
    "#         actions = np.clip(actions, -1, 1)                  # all actions between -1 and 1\n",
    "#         env_info = env.step(actions)[brain_name]           # send all actions to tne environment\n",
    "#         next_states = env_info.vector_observations         # get next state (for each agent)\n",
    "#         rewards = env_info.rewards                         # get reward (for each agent)\n",
    "#         dones = env_info.local_done                        # see if episode finished\n",
    "#         scores += env_info.rewards                         # update the score (for each agent)\n",
    "#         states = next_states                               # roll over states to next time step\n",
    "#         if np.any(dones):                                  # exit loop if episode finished\n",
    "#             break\n",
    "#     print('Score (max over agents) from episode {}: {}'.format(i, np.max(scores)))"
   ]
  },
  {
   "cell_type": "markdown",
   "metadata": {},
   "source": [
    "When finished, you can close the environment."
   ]
  },
  {
   "cell_type": "code",
   "execution_count": null,
   "metadata": {},
   "outputs": [],
   "source": [
    "#env.close()"
   ]
  },
  {
   "cell_type": "markdown",
   "metadata": {},
   "source": [
    "### 4. It's Your Turn!\n",
    "\n",
    "Now it's your turn to train your own agent to solve the environment!  When training the environment, set `train_mode=True`, so that the line for resetting the environment looks like the following:\n",
    "```python\n",
    "env_info = env.reset(train_mode=True)[brain_name]\n",
    "```"
   ]
  },
  {
   "cell_type": "code",
   "execution_count": null,
   "metadata": {},
   "outputs": [],
   "source": [
    "from ddpg_agent_p3 import Agent\n",
    "# Create agent\n",
    "# agent = Agent(state_size=state_size, action_size=action_size, num_agents=num_agents, random_seed=42)"
   ]
  },
  {
   "cell_type": "code",
   "execution_count": null,
   "metadata": {},
   "outputs": [],
   "source": [
    " "
   ]
  },
  {
   "cell_type": "code",
   "execution_count": null,
   "metadata": {},
   "outputs": [],
   "source": []
  },
  {
   "cell_type": "code",
   "execution_count": null,
   "metadata": {},
   "outputs": [],
   "source": [
    "import torch\n",
    "\n",
    "\n",
    "def ddpg(n_episodes=2000, max_t = 1000, print_interval=10, window_size=100,train=True, score_threshold=0.5):\n",
    "    scores_deque = deque(maxlen=window_size) \n",
    "    scores = []   \n",
    "#     states = env_info.vector_observations   \n",
    "    for i_episode in range(1, n_episodes+1):\n",
    "        env_info = env.reset(train_mode=True)[brain_name]      # reset the environment    \n",
    "        states = np.reshape(env_info.vector_observations,(1,48))  #states.shape[0]*state_size                # get the current state (for each agent)\n",
    "        \n",
    "        agent_0.reset()\n",
    "        agent_1.reset()\n",
    "        episode_scores = np.zeros(num_agents)                          # initialize the score (for each agent)\n",
    "        \n",
    "        \n",
    "#         score_average = 0\n",
    "        timestep = time.time()\n",
    "        for t in range(1, n_episodes+1):\n",
    "            actions = get_actions(states)\n",
    "            print(\"actions = \", actions)\n",
    "            env_info = env.step(actions)[brain_name]           # send all actions to tne environment\n",
    "            next_states = env_info.vector_observations         # get next state (for each agent)\n",
    "            rewards = env_info.rewards                         # get reward (for each agent)\n",
    "            dones = env_info.local_done                        # see if episode finished\n",
    "            agent_0.step(states, actions, rewards, next_states, dones, 0)\n",
    "            agent_1.step(states, actions, rewards, next_states, dones, 1)\n",
    "            states = next_states                               # roll over states to next time step\n",
    "            episode_scores += rewards                                  # update the score (for each agent)            \n",
    "            if np.any(dones):                                  # exit loop if episode finished\n",
    "                break\n",
    "        \n",
    "#         score = np.mean(scores)\n",
    "#         scores_deque.append(score)\n",
    "#         score_average = np.mean(scores_deque)\n",
    "#         scores_global.append(score)\n",
    "                            \n",
    "        episode_max_score = np.max(episode_scores) # Summary of scores for this episode\n",
    "        scores.append(episode_score)\n",
    "        \n",
    "        scores_deque.append(episode_max_score)       \n",
    "        total_average_score = np.mean(scores_deque)\n",
    "        \n",
    "        print('\\rEpisode: {}\\tAverage Score: {:.2f}\\tCurrent Score: {:.2f}'.format(i_episode, total_average_score, episode_average_score), end=\"\")\n",
    "        if i_episode % print_interval == 0:\n",
    "            print('\\rEpisode: {}\\tAverage Score: {:.2f}\\tCurrent Score: {:.2f}'.format(i_episode, total_average_score, episode_average_score))\n",
    "\n",
    "        if total_average_score >= score_threshold:\n",
    "            print('\\nEnvironment solved in {} episodes!\\tAverage Score: {:.2f}'.format(i_episode-window_size, total_average_score))\n",
    "            torch.save(agent.actor_local.state_dict(), 'checkpoint_actor.pth')\n",
    "            torch.save(agent.critic_local.state_dict(), 'checkpoint_critic.pth')\n",
    "            break\n",
    "\n",
    "    return scores\n",
    "\n"
   ]
  },
  {
   "cell_type": "code",
   "execution_count": null,
   "metadata": {},
   "outputs": [],
   "source": [
    "# def stack_actions(agent_0, agent_1, states):\n",
    "#     action_0 = agent_0.act(states)\n",
    "#     action_1 = agent_1.act(states)\n",
    "# #     return np.vstack((action_0, action_1)).flatten()\n",
    "#     return np.concatenate((action_0, action_1), axis=0).flatten()\n",
    "\n",
    "def get_actions(states):\n",
    "    action_0 = agent_0.act(states)\n",
    "    action_1 = agent_1.act(states)\n",
    "    return np.concatenate((action_0,action_1),axis=0).flatten()"
   ]
  },
  {
   "cell_type": "code",
   "execution_count": null,
   "metadata": {},
   "outputs": [],
   "source": [
    "# scores = ddpg()"
   ]
  },
  {
   "cell_type": "code",
   "execution_count": null,
   "metadata": {},
   "outputs": [],
   "source": [
    "# fig = plt.figure()\n",
    "# ax = fig.add_subplot(111)\n",
    "# plt.plot(np.arange(1, len(scores)+1), scores)\n",
    "# plt.ylabel('Score')\n",
    "# plt.xlabel('Episode #')\n",
    "# plt.show()"
   ]
  },
  {
   "cell_type": "code",
   "execution_count": null,
   "metadata": {},
   "outputs": [],
   "source": [
    "# env.close()"
   ]
  },
  {
   "cell_type": "code",
   "execution_count": null,
   "metadata": {},
   "outputs": [],
   "source": [
    "import numpy as np\n",
    "x = np.random.rand(3,2)\n",
    "y = np.random.rand(3,2)\n",
    "z = np.concatenate((x,y), axis=0).flatten()\n",
    "a = np.vstack((x,y)).flatten()\n",
    "print(x)\n",
    "print(z)\n",
    "print(\"+++++++++++++\")\n",
    "print(a)"
   ]
  },
  {
   "cell_type": "code",
   "execution_count": null,
   "metadata": {},
   "outputs": [],
   "source": [
    "SOLVED_SCORE = 0.5\n",
    "CONSEC_EPISODES = 100\n",
    "PRINT_EVERY = 100\n",
    "ADD_NOISE = True\n",
    "\n",
    "def maddpg(n_episodes=5000, max_t=1000, train_mode=True):\n",
    "    \"\"\"Multi-Agent Deep Deterministic Policy Gradient (MADDPG)\n",
    "    \n",
    "    Params\n",
    "    ======\n",
    "        n_episodes (int)      : maximum number of training episodes\n",
    "        max_t (int)           : maximum number of timesteps per episode\n",
    "        train_mode (bool)     : if 'True' set environment to training mode\n",
    "\n",
    "    \"\"\"\n",
    "    scores_window = deque(maxlen=CONSEC_EPISODES)\n",
    "    scores_all = []\n",
    "    moving_average = []\n",
    "    best_score = -np.inf\n",
    "    best_episode = 0\n",
    "    already_solved = False    \n",
    "\n",
    "    for i_episode in range(1, n_episodes+1):\n",
    "        env_info = env.reset(train_mode=train_mode)[brain_name]         # reset the environment\n",
    "        states = np.reshape(env_info.vector_observations, (1,48)) # get states and combine them\n",
    "        agent_0.reset()\n",
    "        agent_1.reset()\n",
    "        scores = np.zeros(num_agents)\n",
    "        while True:\n",
    "            actions = get_actions(states, ADD_NOISE)           # choose agent actions and combine them\n",
    "            env_info = env.step(actions)[brain_name]           # send both agents' actions together to the environment\n",
    "            next_states = np.reshape(env_info.vector_observations, (1, 48)) # combine the agent next states\n",
    "            rewards = env_info.rewards                         # get reward\n",
    "            done = env_info.local_done                         # see if episode finished\n",
    "            agent_0.step(states, actions, rewards[0], next_states, done, 0) # agent 1 learns\n",
    "            agent_1.step(states, actions, rewards[1], next_states, done, 1) # agent 2 learns\n",
    "            scores += np.max(rewards)                          # update the score for each agent\n",
    "            states = next_states                               # roll over states to next time step\n",
    "            if np.any(done):                                   # exit loop if episode finished\n",
    "                break\n",
    "\n",
    "        ep_best_score = np.max(scores)\n",
    "        scores_window.append(ep_best_score)\n",
    "        scores_all.append(ep_best_score)\n",
    "        moving_average.append(np.mean(scores_window))\n",
    "\n",
    "        # save best score                        \n",
    "        if ep_best_score > best_score:\n",
    "            best_score = ep_best_score\n",
    "            best_episode = i_episode\n",
    "        \n",
    "        # print results\n",
    "        if i_episode % PRINT_EVERY == 0:\n",
    "            print('Episodes {:0>4d}-{:0>4d}\\tMax Reward: {:.3f}\\tMoving Average: {:.3f}'.format(\n",
    "                i_episode-PRINT_EVERY, i_episode, np.max(scores_all[-PRINT_EVERY:]), moving_average[-1]))\n",
    "            torch.save(agent_0.actor_local.state_dict(), 'models/checkpoint_actor_0.pth')\n",
    "            torch.save(agent_0.critic_local.state_dict(), 'models/checkpoint_critic_0.pth')\n",
    "            torch.save(agent_1.actor_local.state_dict(), 'models/checkpoint_actor_1.pth')\n",
    "            torch.save(agent_1.critic_local.state_dict(), 'models/checkpoint_critic_1.pth')\n",
    "\n",
    "        # determine if environment is solved and keep best performing models\n",
    "        if moving_average[-1] >= SOLVED_SCORE:\n",
    "            if not already_solved:\n",
    "                print('<-- Environment solved in {:d} episodes! \\\n",
    "                \\n<-- Moving Average: {:.3f} over past {:d} episodes'.format(\n",
    "                    i_episode-CONSEC_EPISODES, moving_average[-1], CONSEC_EPISODES))\n",
    "                already_solved = True\n",
    "                # save weights\n",
    "                torch.save(agent_0.actor_local.state_dict(), 'models/checkpoint_actor_0.pth')\n",
    "                torch.save(agent_0.critic_local.state_dict(), 'models/checkpoint_critic_0.pth')\n",
    "                torch.save(agent_1.actor_local.state_dict(), 'models/checkpoint_actor_1.pth')\n",
    "                torch.save(agent_1.critic_local.state_dict(), 'models/checkpoint_critic_1.pth')\n",
    "#                 break\n",
    "            elif ep_best_score >= best_score:\n",
    "                print('<-- Best episode so far!\\\n",
    "                \\nEpisode {:0>4d}\\tMax Reward: {:.3f}\\tMoving Average: {:.3f}'.format(\n",
    "                i_episode, ep_best_score, moving_average[-1]))\n",
    "                # save weights\n",
    "                torch.save(agent_0.actor_local.state_dict(), 'models/checkpoint_actor_0.pth')\n",
    "                torch.save(agent_0.critic_local.state_dict(), 'models/checkpoint_critic_0.pth')\n",
    "                torch.save(agent_1.actor_local.state_dict(), 'models/checkpoint_actor_1.pth')\n",
    "                torch.save(agent_1.critic_local.state_dict(), 'models/checkpoint_critic_1.pth')\n",
    "            elif (i_episode-best_episode) >= 200:\n",
    "                # stop training if model stops converging\n",
    "                print('<-- Training stopped. Best score not matched or exceeded for 200 episodes')\n",
    "                break\n",
    "            else:\n",
    "                continue\n",
    "            \n",
    "    return scores_all, moving_average"
   ]
  },
  {
   "cell_type": "code",
   "execution_count": null,
   "metadata": {},
   "outputs": [],
   "source": [
    "def get_actions(states, add_noise):\n",
    "    action_0 = agent_0.act(states, add_noise)\n",
    "    action_1 = agent_1.act(states, add_noise)\n",
    "    return np.concatenate((action_0,action_1),axis=0).flatten()"
   ]
  },
  {
   "cell_type": "code",
   "execution_count": null,
   "metadata": {},
   "outputs": [],
   "source": [
    "agent_0 = Agent(state_size,action_size,num_agents = 1,random_seed=0)\n",
    "agent_1 = Agent(state_size,action_size,num_agents=1,random_seed=0)"
   ]
  },
  {
   "cell_type": "code",
   "execution_count": null,
   "metadata": {},
   "outputs": [],
   "source": [
    "scores, avgs = maddpg()"
   ]
  },
  {
   "cell_type": "code",
   "execution_count": null,
   "metadata": {},
   "outputs": [],
   "source": [
    "\n",
    "f = plt.figure()\n",
    "ax = f.add_subplot(111)\n",
    "plt.plot(scores)\n",
    "plt.plot(avgs)\n",
    "plt.xlabel('# Episodes')\n",
    "plt.ylabel('Scores')\n",
    "plt.hlines(0.5,0,len(scores),linestyles = 'dashed')\n",
    "plt.show()"
   ]
  },
  {
   "cell_type": "code",
   "execution_count": null,
   "metadata": {},
   "outputs": [],
   "source": []
  }
 ],
 "metadata": {
  "kernelspec": {
   "display_name": "Python 3",
   "language": "python",
   "name": "python3"
  },
  "language_info": {
   "codemirror_mode": {
    "name": "ipython",
    "version": 3
   },
   "file_extension": ".py",
   "mimetype": "text/x-python",
   "name": "python",
   "nbconvert_exporter": "python",
   "pygments_lexer": "ipython3",
   "version": "3.6.8"
  }
 },
 "nbformat": 4,
 "nbformat_minor": 2
}
